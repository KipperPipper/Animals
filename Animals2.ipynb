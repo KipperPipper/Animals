{
 "cells": [
  {
   "cell_type": "code",
   "execution_count": 1,
   "metadata": {
    "colab": {
     "base_uri": "https://localhost:8080/",
     "height": 126
    },
    "colab_type": "code",
    "id": "KNEwii2UEnDz",
    "outputId": "6e908c8d-febd-40de-d2dc-b6fca773942f"
   },
   "outputs": [
    {
     "name": "stdout",
     "output_type": "stream",
     "text": [
      "\u001b[?25l\r",
      "\u001b[K     |█                               | 10kB 18.5MB/s eta 0:00:01\r",
      "\u001b[K     |██▏                             | 20kB 26.4MB/s eta 0:00:01\r",
      "\u001b[K     |███▎                            | 30kB 32.5MB/s eta 0:00:01\r",
      "\u001b[K     |████▍                           | 40kB 4.3MB/s eta 0:00:01\r",
      "\u001b[K     |█████▌                          | 51kB 5.2MB/s eta 0:00:01\r",
      "\u001b[K     |██████▋                         | 61kB 6.1MB/s eta 0:00:01\r",
      "\u001b[K     |███████▊                        | 71kB 7.0MB/s eta 0:00:01\r",
      "\u001b[K     |████████▉                       | 81kB 7.8MB/s eta 0:00:01\r",
      "\u001b[K     |██████████                      | 92kB 8.7MB/s eta 0:00:01\r",
      "\u001b[K     |███████████                     | 102kB 5.2MB/s eta 0:00:01\r",
      "\u001b[K     |████████████▏                   | 112kB 5.2MB/s eta 0:00:01\r",
      "\u001b[K     |█████████████▎                  | 122kB 5.2MB/s eta 0:00:01\r",
      "\u001b[K     |██████████████▍                 | 133kB 5.2MB/s eta 0:00:01\r",
      "\u001b[K     |███████████████▌                | 143kB 5.2MB/s eta 0:00:01\r",
      "\u001b[K     |████████████████▋               | 153kB 5.2MB/s eta 0:00:01\r",
      "\u001b[K     |█████████████████▊              | 163kB 5.2MB/s eta 0:00:01\r",
      "\u001b[K     |██████████████████▉             | 174kB 5.2MB/s eta 0:00:01\r",
      "\u001b[K     |████████████████████            | 184kB 5.2MB/s eta 0:00:01\r",
      "\u001b[K     |█████████████████████           | 194kB 5.2MB/s eta 0:00:01\r",
      "\u001b[K     |██████████████████████▏         | 204kB 5.2MB/s eta 0:00:01\r",
      "\u001b[K     |███████████████████████▎        | 215kB 5.2MB/s eta 0:00:01\r",
      "\u001b[K     |████████████████████████▍       | 225kB 5.2MB/s eta 0:00:01\r",
      "\u001b[K     |█████████████████████████▌      | 235kB 5.2MB/s eta 0:00:01\r",
      "\u001b[K     |██████████████████████████▋     | 245kB 5.2MB/s eta 0:00:01\r",
      "\u001b[K     |███████████████████████████▊    | 256kB 5.2MB/s eta 0:00:01\r",
      "\u001b[K     |████████████████████████████▉   | 266kB 5.2MB/s eta 0:00:01\r",
      "\u001b[K     |██████████████████████████████  | 276kB 5.2MB/s eta 0:00:01\r",
      "\u001b[K     |███████████████████████████████ | 286kB 5.2MB/s eta 0:00:01\r",
      "\u001b[K     |████████████████████████████████| 296kB 5.2MB/s \n",
      "\u001b[K     |████████████████████████████████| 81kB 26.1MB/s \n",
      "\u001b[K     |████████████████████████████████| 153kB 48.6MB/s \n",
      "\u001b[K     |████████████████████████████████| 61kB 23.1MB/s \n",
      "\u001b[?25h  Building wheel for fastparquet (setup.py) ... \u001b[?25l\u001b[?25hdone\n",
      "  Building wheel for thrift (setup.py) ... \u001b[?25l\u001b[?25hdone\n"
     ]
    }
   ],
   "source": [
    "!pip install -q -U toai"
   ]
  },
  {
   "cell_type": "code",
   "execution_count": 0,
   "metadata": {
    "colab": {},
    "colab_type": "code",
    "id": "MBc4MBbF3Mq3"
   },
   "outputs": [],
   "source": [
    "#!pip install -q -U --pre efficientnet"
   ]
  },
  {
   "cell_type": "code",
   "execution_count": 0,
   "metadata": {
    "colab": {
     "base_uri": "https://localhost:8080/",
     "height": 35
    },
    "colab_type": "code",
    "id": "7iWCz-WuG2f7",
    "outputId": "2231fef9-41d4-4660-c4b4-eb098d7c891e"
   },
   "outputs": [
    {
     "data": {
      "text/plain": [
       "'0.1.28'"
      ]
     },
     "execution_count": 2,
     "metadata": {
      "tags": []
     },
     "output_type": "execute_result"
    }
   ],
   "source": [
    "__import__('toai').__version__"
   ]
  },
  {
   "cell_type": "code",
   "execution_count": 2,
   "metadata": {
    "colab": {
     "base_uri": "https://localhost:8080/",
     "height": 108
    },
    "colab_type": "code",
    "id": "XWWEZqXj5iIW",
    "outputId": "48ca2fb0-8afa-4ad6-a272-75c6a4108f5b"
   },
   "outputs": [
    {
     "name": "stdout",
     "output_type": "stream",
     "text": [
      "Installing collected packages: tb-nightly, tf-estimator-nightly, tensorflow\n",
      "  Found existing installation: tensorflow 1.15.0rc3\n",
      "    Uninstalling tensorflow-1.15.0rc3:\n",
      "      Successfully uninstalled tensorflow-1.15.0rc3\n",
      "Successfully installed tb-nightly-1.15.0a20190806 tensorflow-2.0.0rc0 tf-estimator-nightly-1.14.0.dev2019080601\n"
     ]
    }
   ],
   "source": [
    "!pip install tensorflow==2.0.0-rc0 "
   ]
  },
  {
   "cell_type": "code",
   "execution_count": 0,
   "metadata": {
    "colab": {},
    "colab_type": "code",
    "id": "xP8sN3SKvjzI"
   },
   "outputs": [],
   "source": [
    "#!pip install tensorflow-gpu==2.0.0"
   ]
  },
  {
   "cell_type": "code",
   "execution_count": 0,
   "metadata": {
    "colab": {},
    "colab_type": "code",
    "id": "vjJ-ZAoNGsyJ"
   },
   "outputs": [],
   "source": [
    "!pip install -q kaggle\n",
    "\n",
    "!mkdir -p ~/.kaggle\n",
    "!cp kaggle.json ~/.kaggle/\n",
    "!chmod 600 ~/.kaggle/kaggle.json"
   ]
  },
  {
   "cell_type": "code",
   "execution_count": 2,
   "metadata": {
    "colab": {
     "base_uri": "https://localhost:8080/",
     "height": 73
    },
    "colab_type": "code",
    "id": "7RvqcU3mEjk_",
    "outputId": "6f619987-6d01-4508-e72d-ceb4933a5d24"
   },
   "outputs": [
    {
     "name": "stderr",
     "output_type": "stream",
     "text": [
      "/usr/local/lib/python3.6/dist-packages/sklearn/externals/joblib/__init__.py:15: DeprecationWarning: sklearn.externals.joblib is deprecated in 0.21 and will be removed in 0.23. Please import this functionality directly from joblib, which can be installed with: pip install joblib. If this warning is raised when loading pickled models, you may need to re-serialize those models with scikit-learn 0.21+.\n",
      "  warnings.warn(msg, category=DeprecationWarning)\n"
     ]
    }
   ],
   "source": [
    "from toai.imports import *\n",
    "from toai.data import Dataset, DataParams, DataContainer, split_df\n",
    "from toai.models import save_keras_model, load_keras_model\n",
    "from toai.metrics import sparse_top_2_categorical_accuracy\n",
    "from toai.image import (\n",
    "    ImageLearner,\n",
    "    ImageAugmentor,\n",
    "    ImageDataset,\n",
    "    ImageParser,\n",
    "    ImageResizer,\n",
    "    LearningRateFinder,\n",
    "    ImageTrainingCycle,\n",
    "    ImageTrainer,\n",
    ")\n",
    "from toai.utils import download_file, unzip, save_file, load_file\n",
    "import tensorflow as tf\n",
    "from tensorflow import keras\n",
    "import cv2\n",
    "import os\n",
    "from IPython.display import Image\n",
    "from google.colab.patches import cv2_imshow\n",
    "#import efficientnet.keras as efn "
   ]
  },
  {
   "cell_type": "code",
   "execution_count": 5,
   "metadata": {
    "colab": {
     "base_uri": "https://localhost:8080/",
     "height": 35
    },
    "colab_type": "code",
    "id": "VsHofb35Hn9R",
    "outputId": "be96ffae-d9b5-44b3-ba6c-39c54a135a2e"
   },
   "outputs": [
    {
     "data": {
      "text/plain": [
       "'2.0.0-rc0'"
      ]
     },
     "execution_count": 5,
     "metadata": {
      "tags": []
     },
     "output_type": "execute_result"
    }
   ],
   "source": [
    "tf.__version__"
   ]
  },
  {
   "cell_type": "code",
   "execution_count": 0,
   "metadata": {
    "colab": {},
    "colab_type": "code",
    "id": "_zaIeGkxFbeK"
   },
   "outputs": [],
   "source": [
    "DATA_DIR = Path(\"data/animals\")\n",
    "TEMP_DIR = Path(\"temp/animals\")\n",
    "DATA_DIR.mkdir(parents=True, exist_ok=True)\n",
    "TEMP_DIR.mkdir(parents=True, exist_ok=True)"
   ]
  },
  {
   "cell_type": "code",
   "execution_count": 0,
   "metadata": {
    "colab": {},
    "colab_type": "code",
    "id": "XgQgVv9pGjty"
   },
   "outputs": [],
   "source": [
    "#!kaggle competitions download --force iwildcam-2019-fgvc6 -p  {str(DATA_DIR)}"
   ]
  },
  {
   "cell_type": "code",
   "execution_count": 7,
   "metadata": {
    "colab": {
     "base_uri": "https://localhost:8080/",
     "height": 72
    },
    "colab_type": "code",
    "id": "DzkS5rMxSkzR",
    "outputId": "5f23fcea-8fcf-4920-a34f-deacf91e7fd6"
   },
   "outputs": [
    {
     "name": "stderr",
     "output_type": "stream",
     "text": [
      "\r",
      "  0%|          | 0.00/26.0G [00:00<?, ?B/s]"
     ]
    },
    {
     "name": "stdout",
     "output_type": "stream",
     "text": [
      "Downloading train_images.zip to data/animals\n"
     ]
    },
    {
     "name": "stderr",
     "output_type": "stream",
     "text": [
      "100%|██████████| 26.0G/26.0G [03:57<00:00, 118MB/s]"
     ]
    },
    {
     "name": "stdout",
     "output_type": "stream",
     "text": [
      "\n"
     ]
    },
    {
     "name": "stderr",
     "output_type": "stream",
     "text": [
      "\n"
     ]
    }
   ],
   "source": [
    " kaggle.api.competition_download_file(\n",
    "     competition=\"iwildcam-2019-fgvc6\",\n",
    "     file_name=\"train_images.zip\",\n",
    "     path=DATA_DIR,\n",
    " )"
   ]
  },
  {
   "cell_type": "code",
   "execution_count": 8,
   "metadata": {
    "colab": {
     "base_uri": "https://localhost:8080/",
     "height": 72
    },
    "colab_type": "code",
    "id": "5hs8twa2TWoF",
    "outputId": "ff582b98-873b-4c9b-aa73-0f5d328c7931"
   },
   "outputs": [
    {
     "name": "stderr",
     "output_type": "stream",
     "text": [
      "100%|██████████| 4.95M/4.95M [00:00<00:00, 47.2MB/s]"
     ]
    },
    {
     "name": "stdout",
     "output_type": "stream",
     "text": [
      "Downloading train.csv.zip to data/animals\n",
      "\n"
     ]
    },
    {
     "name": "stderr",
     "output_type": "stream",
     "text": [
      "\n"
     ]
    }
   ],
   "source": [
    "kaggle.api.competition_download_file(\n",
    "     competition=\"iwildcam-2019-fgvc6\",\n",
    "     file_name=\"train.csv\",\n",
    "     path=DATA_DIR,\n",
    " )"
   ]
  },
  {
   "cell_type": "markdown",
   "metadata": {
    "colab_type": "text",
    "id": "C3LmB-kdBTT7"
   },
   "source": [
    "data exploration"
   ]
  },
  {
   "cell_type": "code",
   "execution_count": 0,
   "metadata": {
    "colab": {},
    "colab_type": "code",
    "id": "_s9grJy3N1qZ"
   },
   "outputs": [],
   "source": [
    "unzip.all_files_in_dir(DATA_DIR, \".zip\")"
   ]
  },
  {
   "cell_type": "code",
   "execution_count": 0,
   "metadata": {
    "colab": {},
    "colab_type": "code",
    "id": "yddqpfdvSCAt"
   },
   "outputs": [],
   "source": [
    "train_df = pd.read_csv(DATA_DIR/'train.csv')"
   ]
  },
  {
   "cell_type": "code",
   "execution_count": 11,
   "metadata": {
    "colab": {
     "base_uri": "https://localhost:8080/",
     "height": 464
    },
    "colab_type": "code",
    "id": "CxzaaRvRYJh3",
    "outputId": "016b25ec-3ce8-43ff-c883-dc87761767f2"
   },
   "outputs": [
    {
     "data": {
      "text/html": [
       "<div>\n",
       "<style scoped>\n",
       "    .dataframe tbody tr th:only-of-type {\n",
       "        vertical-align: middle;\n",
       "    }\n",
       "\n",
       "    .dataframe tbody tr th {\n",
       "        vertical-align: top;\n",
       "    }\n",
       "\n",
       "    .dataframe thead th {\n",
       "        text-align: right;\n",
       "    }\n",
       "</style>\n",
       "<table border=\"1\" class=\"dataframe\">\n",
       "  <thead>\n",
       "    <tr style=\"text-align: right;\">\n",
       "      <th></th>\n",
       "      <th>0</th>\n",
       "      <th>1</th>\n",
       "      <th>2</th>\n",
       "      <th>3</th>\n",
       "      <th>4</th>\n",
       "    </tr>\n",
       "  </thead>\n",
       "  <tbody>\n",
       "    <tr>\n",
       "      <th>category_id</th>\n",
       "      <td>19</td>\n",
       "      <td>19</td>\n",
       "      <td>0</td>\n",
       "      <td>0</td>\n",
       "      <td>0</td>\n",
       "    </tr>\n",
       "    <tr>\n",
       "      <th>date_captured</th>\n",
       "      <td>2011-05-13 23:43:18</td>\n",
       "      <td>2012-03-17 03:48:44</td>\n",
       "      <td>2014-05-11 11:56:46</td>\n",
       "      <td>2013-10-06 02:00:00</td>\n",
       "      <td>2011-07-12 13:11:16</td>\n",
       "    </tr>\n",
       "    <tr>\n",
       "      <th>file_name</th>\n",
       "      <td>5998cfa4-23d2-11e8-a6a3-ec086b02610b.jpg</td>\n",
       "      <td>588a679f-23d2-11e8-a6a3-ec086b02610b.jpg</td>\n",
       "      <td>59279ce3-23d2-11e8-a6a3-ec086b02610b.jpg</td>\n",
       "      <td>5a2af4ab-23d2-11e8-a6a3-ec086b02610b.jpg</td>\n",
       "      <td>599fbd89-23d2-11e8-a6a3-ec086b02610b.jpg</td>\n",
       "    </tr>\n",
       "    <tr>\n",
       "      <th>frame_num</th>\n",
       "      <td>1</td>\n",
       "      <td>2</td>\n",
       "      <td>1</td>\n",
       "      <td>1</td>\n",
       "      <td>3</td>\n",
       "    </tr>\n",
       "    <tr>\n",
       "      <th>id</th>\n",
       "      <td>5998cfa4-23d2-11e8-a6a3-ec086b02610b</td>\n",
       "      <td>588a679f-23d2-11e8-a6a3-ec086b02610b</td>\n",
       "      <td>59279ce3-23d2-11e8-a6a3-ec086b02610b</td>\n",
       "      <td>5a2af4ab-23d2-11e8-a6a3-ec086b02610b</td>\n",
       "      <td>599fbd89-23d2-11e8-a6a3-ec086b02610b</td>\n",
       "    </tr>\n",
       "    <tr>\n",
       "      <th>location</th>\n",
       "      <td>33</td>\n",
       "      <td>115</td>\n",
       "      <td>96</td>\n",
       "      <td>57</td>\n",
       "      <td>46</td>\n",
       "    </tr>\n",
       "    <tr>\n",
       "      <th>rights_holder</th>\n",
       "      <td>Justin Brown</td>\n",
       "      <td>Justin Brown</td>\n",
       "      <td>Erin Boydston</td>\n",
       "      <td>Erin Boydston</td>\n",
       "      <td>Justin Brown</td>\n",
       "    </tr>\n",
       "    <tr>\n",
       "      <th>seq_id</th>\n",
       "      <td>6f084ccc-5567-11e8-bc84-dca9047ef277</td>\n",
       "      <td>6f12067d-5567-11e8-b3c0-dca9047ef277</td>\n",
       "      <td>6faa92d1-5567-11e8-b1ae-dca9047ef277</td>\n",
       "      <td>6f7d4702-5567-11e8-9e03-dca9047ef277</td>\n",
       "      <td>6f1728a1-5567-11e8-9be7-dca9047ef277</td>\n",
       "    </tr>\n",
       "    <tr>\n",
       "      <th>seq_num_frames</th>\n",
       "      <td>3</td>\n",
       "      <td>3</td>\n",
       "      <td>1</td>\n",
       "      <td>1</td>\n",
       "      <td>3</td>\n",
       "    </tr>\n",
       "    <tr>\n",
       "      <th>width</th>\n",
       "      <td>1024</td>\n",
       "      <td>1024</td>\n",
       "      <td>1024</td>\n",
       "      <td>1024</td>\n",
       "      <td>1024</td>\n",
       "    </tr>\n",
       "    <tr>\n",
       "      <th>height</th>\n",
       "      <td>747</td>\n",
       "      <td>747</td>\n",
       "      <td>747</td>\n",
       "      <td>747</td>\n",
       "      <td>747</td>\n",
       "    </tr>\n",
       "  </tbody>\n",
       "</table>\n",
       "</div>"
      ],
      "text/plain": [
       "                                                       0  ...                                         4\n",
       "category_id                                           19  ...                                         0\n",
       "date_captured                        2011-05-13 23:43:18  ...                       2011-07-12 13:11:16\n",
       "file_name       5998cfa4-23d2-11e8-a6a3-ec086b02610b.jpg  ...  599fbd89-23d2-11e8-a6a3-ec086b02610b.jpg\n",
       "frame_num                                              1  ...                                         3\n",
       "id                  5998cfa4-23d2-11e8-a6a3-ec086b02610b  ...      599fbd89-23d2-11e8-a6a3-ec086b02610b\n",
       "location                                              33  ...                                        46\n",
       "rights_holder                               Justin Brown  ...                              Justin Brown\n",
       "seq_id              6f084ccc-5567-11e8-bc84-dca9047ef277  ...      6f1728a1-5567-11e8-9be7-dca9047ef277\n",
       "seq_num_frames                                         3  ...                                         3\n",
       "width                                               1024  ...                                      1024\n",
       "height                                               747  ...                                       747\n",
       "\n",
       "[11 rows x 5 columns]"
      ]
     },
     "execution_count": 11,
     "metadata": {
      "tags": []
     },
     "output_type": "execute_result"
    }
   ],
   "source": [
    "train_df.head().T"
   ]
  },
  {
   "cell_type": "code",
   "execution_count": 0,
   "metadata": {
    "colab": {
     "base_uri": "https://localhost:8080/",
     "height": 290
    },
    "colab_type": "code",
    "id": "N3DD_8HbpJV8",
    "outputId": "ecd4cbbf-a531-4190-c7c0-55d58f637b1e"
   },
   "outputs": [
    {
     "data": {
      "text/plain": [
       "0     131457\n",
       "19     14106\n",
       "13      8623\n",
       "11      7209\n",
       "8       6938\n",
       "1       6102\n",
       "16      5975\n",
       "17      4759\n",
       "3       3398\n",
       "18      3035\n",
       "4       2210\n",
       "14      1361\n",
       "10      1093\n",
       "22        33\n",
       "Name: category_id, dtype: int64"
      ]
     },
     "execution_count": 40,
     "metadata": {
      "tags": []
     },
     "output_type": "execute_result"
    }
   ],
   "source": [
    "train_df.category_id.value_counts()"
   ]
  },
  {
   "cell_type": "code",
   "execution_count": 0,
   "metadata": {
    "colab": {},
    "colab_type": "code",
    "id": "qs-yyG-YvlEW"
   },
   "outputs": [],
   "source": [
    "IMG_DIMS = (150, 150, 3)"
   ]
  },
  {
   "cell_type": "code",
   "execution_count": 0,
   "metadata": {
    "colab": {},
    "colab_type": "code",
    "id": "UWQYidFrLCwm"
   },
   "outputs": [],
   "source": [
    "train_df['file_name'] = train_df['file_name'].map(lambda x: os.path.join(DATA_DIR,'{}'.format(x)))"
   ]
  },
  {
   "cell_type": "code",
   "execution_count": 14,
   "metadata": {
    "colab": {
     "base_uri": "https://localhost:8080/",
     "height": 764
    },
    "colab_type": "code",
    "id": "v7KysBFzX6Se",
    "outputId": "8482b9f8-b952-48f5-c9d5-d0741db68812"
   },
   "outputs": [
    {
     "data": {
      "image/jpeg": "[encoded data removed]",
      "text/plain": [
       "<IPython.core.display.Image object>"
      ]
     },
     "execution_count": 14,
     "metadata": {
      "tags": []
     },
     "output_type": "execute_result"
    }
   ],
   "source": [
    "Image(train_df['file_name'][1])"
   ]
  },
  {
   "cell_type": "code",
   "execution_count": 13,
   "metadata": {
    "colab": {
     "base_uri": "https://localhost:8080/",
     "height": 35
    },
    "colab_type": "code",
    "id": "iRvQb6L_wWCW",
    "outputId": "b7463255-bec3-49ce-b63b-9614a0f5d87c"
   },
   "outputs": [
    {
     "data": {
      "text/plain": [
       "<matplotlib.axes._subplots.AxesSubplot at 0x7f3210526a20>"
      ]
     },
     "execution_count": 13,
     "metadata": {
      "tags": []
     },
     "output_type": "execute_result"
    }
   ],
   "source": [
    "pd.value_counts(train_df['category_id']).plot.bar()"
   ]
  },
  {
   "cell_type": "code",
   "execution_count": 0,
   "metadata": {
    "colab": {},
    "colab_type": "code",
    "id": "mN9Gqyg3wY6M"
   },
   "outputs": [],
   "source": [
    "train_df['category_id'].value_counts().plot(kind='bar')\n",
    "plt.show()"
   ]
  },
  {
   "cell_type": "code",
   "execution_count": 15,
   "metadata": {
    "colab": {
     "base_uri": "https://localhost:8080/",
     "height": 35
    },
    "colab_type": "code",
    "id": "xCh36aTuHly2",
    "outputId": "dcda5aba-b748-4dec-9d07-92e39d84beb1"
   },
   "outputs": [
    {
     "data": {
      "text/plain": [
       "<matplotlib.axes._subplots.AxesSubplot at 0x7f3210526a20>"
      ]
     },
     "execution_count": 15,
     "metadata": {
      "tags": []
     },
     "output_type": "execute_result"
    }
   ],
   "source": [
    "sns.countplot(x='category_id', data=train_df)"
   ]
  },
  {
   "cell_type": "code",
   "execution_count": 7,
   "metadata": {
    "colab": {
     "base_uri": "https://localhost:8080/",
     "height": 516
    },
    "colab_type": "code",
    "id": "YmR96F4Nuk9K",
    "outputId": "a924924f-6520-4c72-d1e8-543a44ca72f7"
   },
   "outputs": [
    {
     "data": {
      "text/html": [
       "<div>\n",
       "<style scoped>\n",
       "    .dataframe tbody tr th:only-of-type {\n",
       "        vertical-align: middle;\n",
       "    }\n",
       "\n",
       "    .dataframe tbody tr th {\n",
       "        vertical-align: top;\n",
       "    }\n",
       "\n",
       "    .dataframe thead th {\n",
       "        text-align: right;\n",
       "    }\n",
       "</style>\n",
       "<table border=\"1\" class=\"dataframe\">\n",
       "  <thead>\n",
       "    <tr style=\"text-align: right;\">\n",
       "      <th></th>\n",
       "      <th>0</th>\n",
       "      <th>1</th>\n",
       "      <th>2</th>\n",
       "      <th>3</th>\n",
       "      <th>4</th>\n",
       "    </tr>\n",
       "  </thead>\n",
       "  <tbody>\n",
       "    <tr>\n",
       "      <th>category_id</th>\n",
       "      <td>19</td>\n",
       "      <td>19</td>\n",
       "      <td>0</td>\n",
       "      <td>0</td>\n",
       "      <td>0</td>\n",
       "    </tr>\n",
       "    <tr>\n",
       "      <th>date_captured</th>\n",
       "      <td>2011-05-13 23:43:18</td>\n",
       "      <td>2012-03-17 03:48:44</td>\n",
       "      <td>2014-05-11 11:56:46</td>\n",
       "      <td>2013-10-06 02:00:00</td>\n",
       "      <td>2011-07-12 13:11:16</td>\n",
       "    </tr>\n",
       "    <tr>\n",
       "      <th>file_name</th>\n",
       "      <td>data/animals/5998cfa4-23d2-11e8-a6a3-ec086b026...</td>\n",
       "      <td>data/animals/588a679f-23d2-11e8-a6a3-ec086b026...</td>\n",
       "      <td>data/animals/59279ce3-23d2-11e8-a6a3-ec086b026...</td>\n",
       "      <td>data/animals/5a2af4ab-23d2-11e8-a6a3-ec086b026...</td>\n",
       "      <td>data/animals/599fbd89-23d2-11e8-a6a3-ec086b026...</td>\n",
       "    </tr>\n",
       "    <tr>\n",
       "      <th>frame_num</th>\n",
       "      <td>1</td>\n",
       "      <td>2</td>\n",
       "      <td>1</td>\n",
       "      <td>1</td>\n",
       "      <td>3</td>\n",
       "    </tr>\n",
       "    <tr>\n",
       "      <th>id</th>\n",
       "      <td>5998cfa4-23d2-11e8-a6a3-ec086b02610b</td>\n",
       "      <td>588a679f-23d2-11e8-a6a3-ec086b02610b</td>\n",
       "      <td>59279ce3-23d2-11e8-a6a3-ec086b02610b</td>\n",
       "      <td>5a2af4ab-23d2-11e8-a6a3-ec086b02610b</td>\n",
       "      <td>599fbd89-23d2-11e8-a6a3-ec086b02610b</td>\n",
       "    </tr>\n",
       "    <tr>\n",
       "      <th>location</th>\n",
       "      <td>33</td>\n",
       "      <td>115</td>\n",
       "      <td>96</td>\n",
       "      <td>57</td>\n",
       "      <td>46</td>\n",
       "    </tr>\n",
       "    <tr>\n",
       "      <th>rights_holder</th>\n",
       "      <td>Justin Brown</td>\n",
       "      <td>Justin Brown</td>\n",
       "      <td>Erin Boydston</td>\n",
       "      <td>Erin Boydston</td>\n",
       "      <td>Justin Brown</td>\n",
       "    </tr>\n",
       "    <tr>\n",
       "      <th>seq_id</th>\n",
       "      <td>6f084ccc-5567-11e8-bc84-dca9047ef277</td>\n",
       "      <td>6f12067d-5567-11e8-b3c0-dca9047ef277</td>\n",
       "      <td>6faa92d1-5567-11e8-b1ae-dca9047ef277</td>\n",
       "      <td>6f7d4702-5567-11e8-9e03-dca9047ef277</td>\n",
       "      <td>6f1728a1-5567-11e8-9be7-dca9047ef277</td>\n",
       "    </tr>\n",
       "    <tr>\n",
       "      <th>seq_num_frames</th>\n",
       "      <td>3</td>\n",
       "      <td>3</td>\n",
       "      <td>1</td>\n",
       "      <td>1</td>\n",
       "      <td>3</td>\n",
       "    </tr>\n",
       "    <tr>\n",
       "      <th>width</th>\n",
       "      <td>1024</td>\n",
       "      <td>1024</td>\n",
       "      <td>1024</td>\n",
       "      <td>1024</td>\n",
       "      <td>1024</td>\n",
       "    </tr>\n",
       "    <tr>\n",
       "      <th>height</th>\n",
       "      <td>747</td>\n",
       "      <td>747</td>\n",
       "      <td>747</td>\n",
       "      <td>747</td>\n",
       "      <td>747</td>\n",
       "    </tr>\n",
       "  </tbody>\n",
       "</table>\n",
       "</div>"
      ],
      "text/plain": [
       "                                                                0  ...                                                  4\n",
       "category_id                                                    19  ...                                                  0\n",
       "date_captured                                 2011-05-13 23:43:18  ...                                2011-07-12 13:11:16\n",
       "file_name       data/animals/5998cfa4-23d2-11e8-a6a3-ec086b026...  ...  data/animals/599fbd89-23d2-11e8-a6a3-ec086b026...\n",
       "frame_num                                                       1  ...                                                  3\n",
       "id                           5998cfa4-23d2-11e8-a6a3-ec086b02610b  ...               599fbd89-23d2-11e8-a6a3-ec086b02610b\n",
       "location                                                       33  ...                                                 46\n",
       "rights_holder                                        Justin Brown  ...                                       Justin Brown\n",
       "seq_id                       6f084ccc-5567-11e8-bc84-dca9047ef277  ...               6f1728a1-5567-11e8-9be7-dca9047ef277\n",
       "seq_num_frames                                                  3  ...                                                  3\n",
       "width                                                        1024  ...                                               1024\n",
       "height                                                        747  ...                                                747\n",
       "\n",
       "[11 rows x 5 columns]"
      ]
     },
     "execution_count": 7,
     "metadata": {
      "tags": []
     },
     "output_type": "execute_result"
    }
   ],
   "source": [
    "train_df.head().T"
   ]
  },
  {
   "cell_type": "code",
   "execution_count": 23,
   "metadata": {
    "colab": {
     "base_uri": "https://localhost:8080/",
     "height": 300
    },
    "colab_type": "code",
    "id": "uyNAwFxNpHy4",
    "outputId": "e85867b4-108c-4116-a8f6-26be55866a2c"
   },
   "outputs": [
    {
     "data": {
      "text/html": [
       "<div>\n",
       "<style scoped>\n",
       "    .dataframe tbody tr th:only-of-type {\n",
       "        vertical-align: middle;\n",
       "    }\n",
       "\n",
       "    .dataframe tbody tr th {\n",
       "        vertical-align: top;\n",
       "    }\n",
       "\n",
       "    .dataframe thead th {\n",
       "        text-align: right;\n",
       "    }\n",
       "</style>\n",
       "<table border=\"1\" class=\"dataframe\">\n",
       "  <thead>\n",
       "    <tr style=\"text-align: right;\">\n",
       "      <th></th>\n",
       "      <th>category_id</th>\n",
       "      <th>frame_num</th>\n",
       "      <th>location</th>\n",
       "      <th>seq_num_frames</th>\n",
       "      <th>width</th>\n",
       "      <th>height</th>\n",
       "    </tr>\n",
       "  </thead>\n",
       "  <tbody>\n",
       "    <tr>\n",
       "      <th>count</th>\n",
       "      <td>196299.000000</td>\n",
       "      <td>196299.000000</td>\n",
       "      <td>196299.00000</td>\n",
       "      <td>196299.000000</td>\n",
       "      <td>196299.0</td>\n",
       "      <td>196299.000000</td>\n",
       "    </tr>\n",
       "    <tr>\n",
       "      <th>mean</th>\n",
       "      <td>4.085069</td>\n",
       "      <td>1.404047</td>\n",
       "      <td>65.83003</td>\n",
       "      <td>1.793494</td>\n",
       "      <td>1024.0</td>\n",
       "      <td>747.486600</td>\n",
       "    </tr>\n",
       "    <tr>\n",
       "      <th>std</th>\n",
       "      <td>6.749477</td>\n",
       "      <td>0.739637</td>\n",
       "      <td>34.35272</td>\n",
       "      <td>1.026838</td>\n",
       "      <td>0.0</td>\n",
       "      <td>3.128948</td>\n",
       "    </tr>\n",
       "    <tr>\n",
       "      <th>min</th>\n",
       "      <td>0.000000</td>\n",
       "      <td>1.000000</td>\n",
       "      <td>0.00000</td>\n",
       "      <td>1.000000</td>\n",
       "      <td>1024.0</td>\n",
       "      <td>747.000000</td>\n",
       "    </tr>\n",
       "    <tr>\n",
       "      <th>25%</th>\n",
       "      <td>0.000000</td>\n",
       "      <td>1.000000</td>\n",
       "      <td>30.00000</td>\n",
       "      <td>1.000000</td>\n",
       "      <td>1024.0</td>\n",
       "      <td>747.000000</td>\n",
       "    </tr>\n",
       "    <tr>\n",
       "      <th>50%</th>\n",
       "      <td>0.000000</td>\n",
       "      <td>1.000000</td>\n",
       "      <td>70.00000</td>\n",
       "      <td>1.000000</td>\n",
       "      <td>1024.0</td>\n",
       "      <td>747.000000</td>\n",
       "    </tr>\n",
       "    <tr>\n",
       "      <th>75%</th>\n",
       "      <td>8.000000</td>\n",
       "      <td>2.000000</td>\n",
       "      <td>96.00000</td>\n",
       "      <td>3.000000</td>\n",
       "      <td>1024.0</td>\n",
       "      <td>747.000000</td>\n",
       "    </tr>\n",
       "    <tr>\n",
       "      <th>max</th>\n",
       "      <td>22.000000</td>\n",
       "      <td>5.000000</td>\n",
       "      <td>138.00000</td>\n",
       "      <td>5.000000</td>\n",
       "      <td>1024.0</td>\n",
       "      <td>768.000000</td>\n",
       "    </tr>\n",
       "  </tbody>\n",
       "</table>\n",
       "</div>"
      ],
      "text/plain": [
       "         category_id      frame_num  ...     width         height\n",
       "count  196299.000000  196299.000000  ...  196299.0  196299.000000\n",
       "mean        4.085069       1.404047  ...    1024.0     747.486600\n",
       "std         6.749477       0.739637  ...       0.0       3.128948\n",
       "min         0.000000       1.000000  ...    1024.0     747.000000\n",
       "25%         0.000000       1.000000  ...    1024.0     747.000000\n",
       "50%         0.000000       1.000000  ...    1024.0     747.000000\n",
       "75%         8.000000       2.000000  ...    1024.0     747.000000\n",
       "max        22.000000       5.000000  ...    1024.0     768.000000\n",
       "\n",
       "[8 rows x 6 columns]"
      ]
     },
     "execution_count": 23,
     "metadata": {
      "tags": []
     },
     "output_type": "execute_result"
    }
   ],
   "source": [
    "train_df.describe()"
   ]
  },
  {
   "cell_type": "markdown",
   "metadata": {
    "colab_type": "text",
    "id": "Inu3nty0mp36"
   },
   "source": []
  },
  {
   "cell_type": "code",
   "execution_count": 0,
   "metadata": {
    "colab": {},
    "colab_type": "code",
    "id": "xeKe6dbepEtj"
   },
   "outputs": [],
   "source": [
    "train_df.head().T"
   ]
  },
  {
   "cell_type": "code",
   "execution_count": 0,
   "metadata": {
    "colab": {},
    "colab_type": "code",
    "id": "Ds0RUfzilZaz"
   },
   "outputs": [],
   "source": [
    "train_data, valid_data, test_data = ImageDataset.split(\n",
    "    dataset=ImageDataset.from_dataframe(train_df, x_col=\"file_name\", y_col=\"category_id\"),\n",
    "    fracs=(0.2, 0.1, 0.1),\n",
    ")"
   ]
  },
  {
   "cell_type": "code",
   "execution_count": 0,
   "metadata": {
    "colab": {},
    "colab_type": "code",
    "id": "OWLRg8tCPkB8"
   },
   "outputs": [],
   "source": [
    "IMG_DIMS=(150,150,3)"
   ]
  },
  {
   "cell_type": "code",
   "execution_count": 0,
   "metadata": {
    "colab": {},
    "colab_type": "code",
    "id": "i8iPTX0KnMZt"
   },
   "outputs": [],
   "source": [
    "train_image_dataset = (\n",
    "    train_data\n",
    "    .dataset(batch_size=32, img_dims=IMG_DIMS, shuffle=False)\n",
    "    .make_pipeline(\n",
    "        image_pipeline=[\n",
    "            ImageParser(),\n",
    "            ImageResizer(img_dims=IMG_DIMS, resize=\"stretch\"),\n",
    "            ImageAugmentor(level=2, flips=\"both\"),\n",
    "        ],\n",
    "    )\n",
    "    .save_pipeline(TEMP_DIR/\"train\")\n",
    "    .preprocess()\n",
    ")"
   ]
  },
  {
   "cell_type": "code",
   "execution_count": 21,
   "metadata": {
    "colab": {
     "base_uri": "https://localhost:8080/",
     "height": 144
    },
    "colab_type": "code",
    "id": "VXKOZ1BC7GB1",
    "outputId": "62b07a82-fcc1-449d-bc9e-501ff32732f7"
   },
   "outputs": [
    {
     "data": {
      "text/plain": [
       "(array(['data/animals/59f94410-23d2-11e8-a6a3-ec086b02610b.jpg',\n",
       "        'data/animals/592c4e21-23d2-11e8-a6a3-ec086b02610b.jpg',\n",
       "        'data/animals/5a27d901-23d2-11e8-a6a3-ec086b02610b.jpg', ...,\n",
       "        'data/animals/59d27bd0-23d2-11e8-a6a3-ec086b02610b.jpg',\n",
       "        'data/animals/59dc25db-23d2-11e8-a6a3-ec086b02610b.jpg',\n",
       "        'data/animals/5a02fc92-23d2-11e8-a6a3-ec086b02610b.jpg'],\n",
       "       dtype=object), array([ 0,  0, 19, ...,  0,  0,  4]))"
      ]
     },
     "execution_count": 21,
     "metadata": {
      "tags": []
     },
     "output_type": "execute_result"
    }
   ],
   "source": [
    "train_data.x,train_data.y"
   ]
  },
  {
   "cell_type": "code",
   "execution_count": 0,
   "metadata": {
    "colab": {},
    "colab_type": "code",
    "id": "k5r4kLyKAPA3"
   },
   "outputs": [],
   "source": [
    "valid_image_dataset = (\n",
    "    valid_data\n",
    "    .dataset(batch_size=32, img_dims=IMG_DIMS, shuffle=True)\n",
    "    .make_pipeline(\n",
    "        label_map=train_image_dataset.label_map,\n",
    "        image_pipeline=[\n",
    "            ImageParser(),\n",
    "            ImageResizer(img_dims=IMG_DIMS, resize=\"stretch\"),\n",
    "        ],\n",
    "    )\n",
    "    .save_pipeline(TEMP_DIR/\"pred\")\n",
    "    .preprocess()\n",
    ")"
   ]
  },
  {
   "cell_type": "code",
   "execution_count": 0,
   "metadata": {
    "colab": {},
    "colab_type": "code",
    "id": "_F4k28RwAuzn"
   },
   "outputs": [],
   "source": [
    "test_image_dataset = (\n",
    "    test_data\n",
    "    .dataset(batch_size=32, img_dims=IMG_DIMS, shuffle=False)\n",
    "    .load_pipeline(TEMP_DIR/\"pred\")\n",
    "    .preprocess()\n",
    ")"
   ]
  },
  {
   "cell_type": "code",
   "execution_count": 0,
   "metadata": {
    "colab": {},
    "colab_type": "code",
    "id": "8ksrjSPYA17O"
   },
   "outputs": [],
   "source": [
    "train_image_dataset.label_map"
   ]
  },
  {
   "cell_type": "code",
   "execution_count": 20,
   "metadata": {
    "colab": {
     "base_uri": "https://localhost:8080/",
     "height": 290
    },
    "colab_type": "code",
    "id": "dK50QW4XCalu",
    "outputId": "008ecf32-9898-4d3a-d956-3bcb175fdd4e"
   },
   "outputs": [
    {
     "data": {
      "text/plain": [
       "0     131457\n",
       "19     14106\n",
       "13      8623\n",
       "11      7209\n",
       "8       6938\n",
       "1       6102\n",
       "16      5975\n",
       "17      4759\n",
       "3       3398\n",
       "18      3035\n",
       "4       2210\n",
       "14      1361\n",
       "10      1093\n",
       "22        33\n",
       "Name: category_id, dtype: int64"
      ]
     },
     "execution_count": 20,
     "metadata": {
      "tags": []
     },
     "output_type": "execute_result"
    }
   ],
   "source": [
    "train_df.category_id.value_counts().T"
   ]
  },
  {
   "cell_type": "code",
   "execution_count": 0,
   "metadata": {
    "colab": {},
    "colab_type": "code",
    "id": "dlNj81AkHCNg"
   },
   "outputs": [],
   "source": [
    "data_container = DataContainer(\n",
    "    train=train_image_dataset,\n",
    "    validation=valid_image_dataset,\n",
    "    test=test_image_dataset,\n",
    ")"
   ]
  },
  {
   "cell_type": "code",
   "execution_count": 0,
   "metadata": {
    "colab": {},
    "colab_type": "code",
    "id": "PaptWROpHW_X"
   },
   "outputs": [],
   "source": [
    "data_container.train.show()\n"
   ]
  },
  {
   "cell_type": "code",
   "execution_count": 25,
   "metadata": {
    "colab": {
     "base_uri": "https://localhost:8080/",
     "height": 73
    },
    "colab_type": "code",
    "id": "tzfAJbb3fKvi",
    "outputId": "e5393b32-e708-4824-c7d7-40284acef712"
   },
   "outputs": [
    {
     "name": "stdout",
     "output_type": "stream",
     "text": [
      "Downloading data from https://github.com/fchollet/deep-learning-models/releases/download/v0.4/xception_weights_tf_dim_ordering_tf_kernels_notop.h5\n",
      "83689472/83683744 [==============================] - 8s 0us/step\n"
     ]
    }
   ],
   "source": [
    "learner = ImageLearner(\n",
    "    path=TEMP_DIR/\"xception_v1\",\n",
    "    base_model=keras.applications.Xception,\n",
    "    input_shape=IMG_DIMS,\n",
    "    output_shape=[data_container.train.n_classes],\n",
    "    activation=keras.activations.softmax,\n",
    "    loss=keras.losses.sparse_categorical_crossentropy,\n",
    "    metrics=[keras.metrics.sparse_categorical_accuracy, sparse_top_2_categorical_accuracy],\n",
    "    dropout=0.1,\n",
    "    l1=3e-6,\n",
    "    l2=3e-5,\n",
    "    override=True,\n",
    ")"
   ]
  },
  {
   "cell_type": "code",
   "execution_count": 0,
   "metadata": {
    "colab": {},
    "colab_type": "code",
    "id": "ZQulerp8gK2p"
   },
   "outputs": [],
   "source": [
    "steps = [\n",
    "    ImageTrainingCycle(\n",
    "        n_epochs=1,\n",
    "        lr=1e-4,\n",
    "        optimizer=keras.optimizers.Adam,\n",
    "        freeze=True,\n",
    "        feature_pipeline=[\n",
    "            ImageParser(),\n",
    "            ImageResizer(img_dims=IMG_DIMS, resize=\"stretch\"),\n",
    "            ImageAugmentor(level=1),\n",
    "        ],\n",
    "    ),\n",
    "    ImageTrainingCycle(\n",
    "        n_epochs=1,\n",
    "        lr=1e-4,\n",
    "        optimizer=keras.optimizers.Adam,\n",
    "        feature_pipeline=[\n",
    "            ImageParser(),\n",
    "            ImageResizer(img_dims=IMG_DIMS, resize=\"stretch\"),\n",
    "            ImageAugmentor(level=3, flips=\"horizontal\"),\n",
    "        ],\n",
    "    ),\n",
    "    ImageTrainingCycle(\n",
    "        n_epochs=1,\n",
    "        lr=1e-4,\n",
    "        optimizer=keras.optimizers.SGD,\n",
    "        feature_pipeline=[\n",
    "            ImageParser(),\n",
    "            ImageResizer(img_dims=IMG_DIMS, resize=\"stretch\"),\n",
    "            ImageAugmentor(level=1),\n",
    "        ],\n",
    "    ),\n",
    "]"
   ]
  },
  {
   "cell_type": "code",
   "execution_count": 0,
   "metadata": {
    "colab": {},
    "colab_type": "code",
    "id": "SKsrvvb3gUEZ"
   },
   "outputs": [],
   "source": [
    "trainer = ImageTrainer(\n",
    "    learner=learner,\n",
    "    data_container=data_container,\n",
    "    \n",
    "    \n",
    ")"
   ]
  },
  {
   "cell_type": "code",
   "execution_count": 45,
   "metadata": {
    "colab": {
     "base_uri": "https://localhost:8080/",
     "height": 201
    },
    "colab_type": "code",
    "id": "ZG7Oz5WKgWEP",
    "outputId": "9c14069d-a317-4e99-f014-06d883598bd3"
   },
   "outputs": [
    {
     "name": "stdout",
     "output_type": "stream",
     "text": [
      "Train for 1227 steps, validate for 614 steps\n",
      "1227/1227 [==============================] - 661s 539ms/step - loss: 1.1284 - sparse_categorical_accuracy: 0.7033 - sparse_top_2_categorical_accuracy: 0.7873 - val_loss: 1.0780 - val_sparse_categorical_accuracy: 0.7097 - val_sparse_top_2_categorical_accuracy: 0.8003\n",
      "Train for 1227 steps, validate for 614 steps\n",
      "1227/1227 [==============================] - 923s 752ms/step - loss: 0.8085 - sparse_categorical_accuracy: 0.7911 - sparse_top_2_categorical_accuracy: 0.8711 - val_loss: 0.5188 - val_sparse_categorical_accuracy: 0.8429 - val_sparse_top_2_categorical_accuracy: 0.9167\n",
      "Train for 1227 steps, validate for 614 steps\n",
      "1227/1227 [==============================] - 900s 733ms/step - loss: 0.4392 - sparse_categorical_accuracy: 0.8639 - sparse_top_2_categorical_accuracy: 0.9305 - val_loss: 0.4709 - val_sparse_categorical_accuracy: 0.8540 - val_sparse_top_2_categorical_accuracy: 0.9235\n",
      "--------------------------------------------------------------------------------\n",
      "Name: xception Train Time: 41.4 min. Eval Time: 163.74s Loss: 0.4709 Accuracy: 85.40%\n",
      "--------------------------------------------------------------------------------\n"
     ]
    }
   ],
   "source": [
    "trainer.train(cycles=steps)"
   ]
  },
  {
   "cell_type": "code",
   "execution_count": 67,
   "metadata": {
    "colab": {
     "base_uri": "https://localhost:8080/",
     "height": 35
    },
    "colab_type": "code",
    "id": "J1VJ1_pjfmCD",
    "outputId": "47f15ce9-b80a-4970-f229-a507955bf823"
   },
   "outputs": [
    {
     "data": {
      "text/plain": [
       "<toai.image.LearningRateFinder.LearningRateFinder at 0x7faaa18072e8>"
      ]
     },
     "execution_count": 67,
     "metadata": {
      "tags": []
     },
     "output_type": "execute_result"
    }
   ],
   "source": [
    "LearningRateFinder(learner)"
   ]
  },
  {
   "cell_type": "code",
   "execution_count": 68,
   "metadata": {
    "colab": {
     "base_uri": "https://localhost:8080/",
     "height": 73
    },
    "colab_type": "code",
    "id": "UYyn7chjBa_E",
    "outputId": "f74838e9-60d0-499c-cb4b-830dba4a5baa"
   },
   "outputs": [
    {
     "name": "stdout",
     "output_type": "stream",
     "text": [
      "614/614 [==============================] - 172s 281ms/step - loss: 0.4709 - sparse_categorical_accuracy: 0.8540 - sparse_top_2_categorical_accuracy: 0.9235\n"
     ]
    },
    {
     "data": {
      "text/plain": [
       "[0.47091951542791793, 0.85398006, 0.92350364]"
      ]
     },
     "execution_count": 68,
     "metadata": {
      "tags": []
     },
     "output_type": "execute_result"
    }
   ],
   "source": [
    "trainer.evaluate_dataset()"
   ]
  },
  {
   "cell_type": "code",
   "execution_count": 0,
   "metadata": {
    "colab": {},
    "colab_type": "code",
    "id": "mTmqkx7mBntF"
   },
   "outputs": [],
   "source": [
    "df_analysis = trainer.analyse_dataset()"
   ]
  },
  {
   "cell_type": "code",
   "execution_count": 0,
   "metadata": {
    "colab": {},
    "colab_type": "code",
    "id": "k0RJ2PxfB2e3"
   },
   "outputs": [],
   "source": [
    "learner = ImageLearner(\n",
    "    path=TEMP_DIR/\"inceptionv3\",\n",
    "    base_model=keras.applications.InceptionV3,\n",
    "    input_shape=IMG_DIMS,\n",
    "    output_shape=[data_container.train.n_classes],\n",
    "    activation=keras.activations.softmax,\n",
    "    loss=keras.losses.sparse_categorical_crossentropy,\n",
    "    metrics=[keras.metrics.sparse_categorical_accuracy, sparse_top_2_categorical_accuracy],\n",
    "    dropout=0.2,\n",
    "    l1=3e-4,\n",
    "    l2=3e-3,\n",
    "    override=True,\n",
    ")"
   ]
  },
  {
   "cell_type": "code",
   "execution_count": 0,
   "metadata": {
    "colab": {},
    "colab_type": "code",
    "id": "FNUka8OUCaKS"
   },
   "outputs": [],
   "source": [
    "steps = [\n",
    "    ImageTrainingCycle(\n",
    "        n_epochs=2,\n",
    "        lr=1e-4,\n",
    "        optimizer=keras.optimizers.Adam,\n",
    "        freeze=True,\n",
    "        feature_pipeline=[\n",
    "            ImageParser(),\n",
    "            ImageResizer(img_dims=(150,150,3), resize=\"stretch\"),\n",
    "            ImageAugmentor(level=1),\n",
    "        ],\n",
    "    ),\n",
    "    ImageTrainingCycle(\n",
    "        n_epochs=2,\n",
    "        lr=1e-5,\n",
    "        optimizer=keras.optimizers.Adam,\n",
    "        feature_pipeline=[\n",
    "            ImageParser(),\n",
    "            ImageResizer(img_dims=(99,99,3), resize=\"stretch\"),\n",
    "            ImageAugmentor(level=2, flips=\"both\"),\n",
    "        ],\n",
    "    ),\n",
    "    ImageTrainingCycle(\n",
    "        n_epochs=2,\n",
    "        lr=1e-5,\n",
    "        optimizer=keras.optimizers.SGD,\n",
    "        feature_pipeline=[\n",
    "            ImageParser(),\n",
    "            ImageResizer(img_dims=(99,99,3), resize=\"stretch\"),\n",
    "            ImageAugmentor(level=1),\n",
    "        ],\n",
    "    ),\n",
    "]"
   ]
  },
  {
   "cell_type": "code",
   "execution_count": 0,
   "metadata": {
    "colab": {},
    "colab_type": "code",
    "id": "22ETGRHoMa0w"
   },
   "outputs": [],
   "source": [
    "trainer = ImageTrainer(\n",
    "    learner=learner,\n",
    "    data_container=data_container,\n",
    "    \n",
    "    \n",
    ")"
   ]
  },
  {
   "cell_type": "code",
   "execution_count": 0,
   "metadata": {
    "colab": {
     "base_uri": "https://localhost:8080/",
     "height": 92
    },
    "colab_type": "code",
    "id": "a-E4AYfoNG5D",
    "outputId": "199cf2db-50e7-4312-fa49-f3bce053e772"
   },
   "outputs": [
    {
     "name": "stdout",
     "output_type": "stream",
     "text": [
      "Train for 1227 steps, validate for 614 steps\n",
      "Epoch 1/2\n",
      "1165/1227 [===========================>..] - ETA: 2:17 - loss: 1.5427 - sparse_categorical_accuracy: 0.6875 - sparse_top_2_categorical_accuracy: 0.7848"
     ]
    }
   ],
   "source": [
    "trainer.train(cycles=steps)"
   ]
  },
  {
   "cell_type": "code",
   "execution_count": 0,
   "metadata": {
    "colab": {},
    "colab_type": "code",
    "id": "jGW7H8ucQKTj"
   },
   "outputs": [],
   "source": []
  }
 ],
 "metadata": {
  "accelerator": "GPU",
  "colab": {
   "name": "Animals CV.ipynb",
   "provenance": []
  },
  "kernelspec": {
   "display_name": "Python 3",
   "language": "python",
   "name": "python3"
  },
  "language_info": {
   "codemirror_mode": {
    "name": "ipython",
    "version": 3
   },
   "file_extension": ".py",
   "mimetype": "text/x-python",
   "name": "python",
   "nbconvert_exporter": "python",
   "pygments_lexer": "ipython3",
   "version": "3.7.3"
  }
 },
 "nbformat": 4,
 "nbformat_minor": 1
}
